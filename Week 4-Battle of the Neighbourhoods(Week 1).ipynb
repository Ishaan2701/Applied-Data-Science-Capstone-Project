{
 "cells": [
  {
   "cell_type": "markdown",
   "metadata": {},
   "source": [
    "<h1>Introduction</h1>\n",
    "<br>\n",
    "<br>\n",
    "Ahmedabad is the largest city and former capital of the Indian State of Gujarat. It is the administrative headquarters of the Ahmedabad district and the seat of the Gujarat High Court. Ahmedabad's population of 5,633,927 (as per 2011 population census) makes it the fifth-most populous city in India.\n",
    "\n",
    "As you can see from the figures, Ahmedabad is a city with a high population and population density. Being such a crowded city leads the owners of shops and social sharing places in the city where the population is dense. When we think of it by the investor, we expect from them to prefer the districts where there is a lower real estate cost and the type of business they want to install is less intense. If we think of the city residents, they may want to choose the regions where real estate values are lower, too. At the same time, they may want to choose the district according to the social places density. However, it is difficult to obtain information that will guide investors in this direction, nowadays.\n",
    "\n",
    "When we consider all these problems, we can create a map and information chart where the real estate index is placed on Ahmedabad and each district is clustered according to the venue density."
   ]
  },
  {
   "cell_type": "markdown",
   "metadata": {},
   "source": [
    "<h1>Data</h1>\n",
    "<br>\n",
    "<br>\n",
    "I found the Area wise rates of the city of Ahmedabad form makaan.com. The .csv file has the rates of all the areas of the city. I cleaned the data and manipulated it for ease of use.\n",
    "<br>\n",
    "<br>\n",
    "I used Forsquare API to get the most common venues of given areas of Ahmedabad.\n",
    "<br>\n",
    "<br>\n",
    "There are not too many public datas related to demographic and social parameters for the city of Ahmedabad. Therefore one must set-up your own data tables in most cases.\n",
    "<br>\n",
    "<br>\n",
    "I used Google Map, ‘Search Nearby’ option to get the center coordinates of the each area."
   ]
  },
  {
   "cell_type": "code",
   "execution_count": null,
   "metadata": {},
   "outputs": [],
   "source": []
  }
 ],
 "metadata": {
  "kernelspec": {
   "display_name": "Python 3",
   "language": "python",
   "name": "python3"
  },
  "language_info": {
   "codemirror_mode": {
    "name": "ipython",
    "version": 3
   },
   "file_extension": ".py",
   "mimetype": "text/x-python",
   "name": "python",
   "nbconvert_exporter": "python",
   "pygments_lexer": "ipython3",
   "version": "3.7.6"
  }
 },
 "nbformat": 4,
 "nbformat_minor": 4
}
